{
 "cells": [
  {
   "cell_type": "markdown",
   "id": "990b672d",
   "metadata": {},
   "source": [
    "**DRIVER CODE**"
   ]
  },
  {
   "cell_type": "code",
   "execution_count": null,
   "id": "fd7f8506",
   "metadata": {},
   "outputs": [],
   "source": [
    "import pandas as pd\n",
    "import numpy as np\n",
    "import matplotlib.pyplot as plt\n",
    "import seaborn as sb\n",
    "import nltk\n",
    "plt.style.use('ggplot')\n",
    "\n",
    "color = sb.color_palette()\n",
    "%matplotlib inline\n",
    "import plotly.offline as py\n",
    "py.init_notebook_mode(connected=True)\n",
    "import plotly.graph_objs as go\n",
    "import plotly.tools as tls\n",
    "import plotly.express as px\n",
    "\n",
    "from collections import Counter\n",
    "\n",
    "import string\n",
    "\n",
    "import warnings\n",
    "warnings.filterwarnings('ignore')"
   ]
  },
  {
   "cell_type": "code",
   "execution_count": null,
   "id": "95789336",
   "metadata": {},
   "outputs": [],
   "source": [
    "df=pd.read_csv('flipkart_30-06-2024-20-58.csv')\n",
    "# Check if 'Unnamed: 0' exists in the DataFrame columns\n",
    "if 'Unnamed: 0' in df.columns:\n",
    "    # Increment the values in 'Unnamed: 0' by 1\n",
    "    df['Unnamed: 0'] = df['Unnamed: 0'] + 1\n",
    "    # Rename 'Unnamed: 0' to 'serial'\n",
    "    df.rename(columns={'Unnamed: 0': 'serial'}, inplace=True)\n",
    "\n",
    "# Print or further process the DataFrame\n",
    "print(df)"
   ]
  },
  {
   "cell_type": "code",
   "execution_count": null,
   "id": "3e2e2bb8",
   "metadata": {},
   "outputs": [],
   "source": [
    "df.describe(include=[\"object\"]).T"
   ]
  },
  {
   "cell_type": "code",
   "execution_count": null,
   "id": "e4b1f18a",
   "metadata": {},
   "outputs": [],
   "source": [
    "df.info()"
   ]
  },
  {
   "cell_type": "markdown",
   "id": "75d3725a",
   "metadata": {},
   "source": [
    "**DATA CLEANING**"
   ]
  },
  {
   "cell_type": "code",
   "execution_count": null,
   "id": "8cb4d447",
   "metadata": {},
   "outputs": [],
   "source": [
    "df.isna().sum()"
   ]
  },
  {
   "cell_type": "code",
   "execution_count": null,
   "id": "8e53da27",
   "metadata": {},
   "outputs": [],
   "source": [
    " #Define a function to fill null values with 1.0 or 2.0\n",
    "def fill_nulls(value):\n",
    "    return np.random.choice([1.0, 2.0]) if pd.isnull(value) else value\n",
    "\n",
    "# Apply the function to fill null values in 'column_name'\n",
    "df['stars'] = df['stars'].apply(fill_nulls)"
   ]
  },
  {
   "cell_type": "code",
   "execution_count": null,
   "id": "174cd3c0",
   "metadata": {},
   "outputs": [],
   "source": [
    "file=pd.DataFrame()\n",
    "file['Word Count'] = [len(review.split()) for review in df['review']]\n",
    "\n",
    "file['Uppercase Char Count'] = [sum(char.isupper() for char in review) \\\n",
    "                              for review in df['review']]                           \n",
    "                              \n",
    "file['Special Char Count'] = [sum(char in string.punctuation for char in review) \\\n",
    "                            for review in df['review']]\n",
    "file"
   ]
  },
  {
   "cell_type": "code",
   "execution_count": null,
   "id": "61341b29",
   "metadata": {},
   "outputs": [],
   "source": [
    "df.tail()"
   ]
  },
  {
   "cell_type": "code",
   "execution_count": null,
   "id": "968a597c",
   "metadata": {},
   "outputs": [],
   "source": [
    "%matplotlib inline\n",
    "%config InlineBackend.figure_format=\"retina\"\n",
    "\n",
    "count=df['stars'].value_counts().sort_index()\n",
    "\n",
    "ax=count.plot(kind=\"bar\",figsize=(10,8),color=\"blue\",width=0.50)\n",
    "plt.title('STAR RATING DISTRIBUTION',fontsize=20)\n",
    "plt.xlabel('STAR RATING',fontsize=20)\n",
    "plt.xticks(fontsize=20,rotation=0)\n",
    "plt.grid(True)\n",
    "for p  in ax.patches:\n",
    "    ax.annotate(str(p.get_height()), (p.get_x() *1.005, p.get_height() * 1.005))\n",
    "plt.show()"
   ]
  },
  {
   "cell_type": "code",
   "execution_count": null,
   "id": "f39986e9",
   "metadata": {},
   "outputs": [],
   "source": [
    "#Creating Stopwords list\n",
    "%matplotlib inline\n",
    "%config InlineBackend.figure_format=\"retina\"\n",
    "\n",
    "import nltk\n",
    "from nltk.corpus import stopwords\n",
    "from wordcloud import WordCloud\n",
    "\n",
    "stopwords = set(stopwords.words('english'))\n",
    "stopwords.update([\"br\",\"href\"])\n",
    "text = \" \".join(review for review in df.review)\n",
    "wordcloud = WordCloud(stopwords=stopwords).generate(text)\n",
    "\n",
    "plt.imshow(wordcloud, interpolation='bilinear')\n",
    "plt.axis(\"off\")\n",
    "plt.show()"
   ]
  },
  {
   "cell_type": "code",
   "execution_count": null,
   "id": "05e766f3",
   "metadata": {},
   "outputs": [],
   "source": [
    "df['sentiment'] = df['stars'].apply(lambda rating : +1 if rating >= 3 else -1)"
   ]
  },
  {
   "cell_type": "code",
   "execution_count": null,
   "id": "7a1ec659",
   "metadata": {},
   "outputs": [],
   "source": [
    "df.head()"
   ]
  },
  {
   "cell_type": "code",
   "execution_count": null,
   "id": "e6c3f168",
   "metadata": {},
   "outputs": [],
   "source": [
    "positive = df[df['sentiment'] == 1]\n",
    "negative = df[df['sentiment'] == -1]"
   ]
  },
  {
   "cell_type": "code",
   "execution_count": null,
   "id": "3a46a73b",
   "metadata": {},
   "outputs": [],
   "source": [
    "positive[:10]"
   ]
  },
  {
   "cell_type": "code",
   "execution_count": null,
   "id": "0f0b5106",
   "metadata": {},
   "outputs": [],
   "source": [
    "negative[:10]"
   ]
  },
  {
   "cell_type": "code",
   "execution_count": null,
   "id": "73782a47",
   "metadata": {},
   "outputs": [],
   "source": [
    "def getMostCommonWords(reviews, n_most_common, stopwords=None):\n",
    "    # param reviews: column from pandas.DataFrame (e.g. df['Reviews']) \n",
    "        #(pandas.Series)\n",
    "    # param n_most_common: the top n most common words in reviews (int)\n",
    "    # param stopwords: list of stopwords (str) to remove from reviews (list)\n",
    "    # Returns list of n_most_common words organized in tuples as \n",
    "        #('term', frequency) (list)\n",
    "    \n",
    "    # flatten review column into a list of words, and set each to lowercase\n",
    "    flattened_reviews = [word for review in reviews for word in \\\n",
    "                         review.lower().split()]\n",
    "    \n",
    "    \n",
    "    # remove punctuation from reviews\n",
    "    flattened_reviews = [''.join(char for char in review if \\\n",
    "                                 char not in string.punctuation) for \\\n",
    "                         review in flattened_reviews]\n",
    "    \n",
    "    \n",
    "    # remove stopwords, if applicable\n",
    "    if stopwords:\n",
    "        flattened_reviews = [word for word in flattened_reviews if \\\n",
    "                             word not in stopwords]\n",
    "        \n",
    "        \n",
    "    # remove any empty strings that were created by this process\n",
    "    flattened_reviews = [review for review in flattened_reviews if review]\n",
    "      \n",
    "    return Counter(flattened_reviews).most_common(n_most_common)"
   ]
  },
  {
   "cell_type": "code",
   "execution_count": null,
   "id": "554096ec",
   "metadata": {},
   "outputs": [],
   "source": [
    "import nltk\n",
    "from nltk.corpus import stopwords\n",
    "from wordcloud import WordCloud\n",
    "\n",
    "getMostCommonWords(positive['review'], 10, stopwords.words('english'))"
   ]
  },
  {
   "cell_type": "code",
   "execution_count": null,
   "id": "b7629995",
   "metadata": {},
   "outputs": [],
   "source": [
    "import nltk\n",
    "from nltk.corpus import stopwords\n",
    "from wordcloud import WordCloud\n",
    "\n",
    "getMostCommonWords(negative['review'], 10, stopwords.words('english'))"
   ]
  },
  {
   "cell_type": "code",
   "execution_count": null,
   "id": "4621bb94",
   "metadata": {},
   "outputs": [],
   "source": [
    "%matplotlib inline\n",
    "%config InlineBackend.figure_format=\"retina\"\n",
    "\n",
    "import nltk\n",
    "from nltk.corpus import stopwords\n",
    "from wordcloud import WordCloud\n",
    "\n",
    "stopwords = set(stopwords.words('english'))\n",
    "stopwords.update([\"br\", \"phone\", \"href\",\"good\",\"great\",\"camera\", \"iphone\", \"nice\",\"battery\", \"best\", \"awesome\",\"perfomance\",\"buy\"]) \n",
    "## good and great removed because they were included in negative sentiment\n",
    "pos = \" \".join(review for review in positive.review)\n",
    "wordcloud = WordCloud(stopwords=stopwords).generate(pos)\n",
    "plt.imshow(wordcloud, interpolation='bilinear')\n",
    "plt.axis(\"off\")\n",
    "plt.show()"
   ]
  },
  {
   "cell_type": "code",
   "execution_count": null,
   "id": "067223eb",
   "metadata": {},
   "outputs": [],
   "source": [
    "%matplotlib inline\n",
    "%config InlineBackend.figure_format=\"retina\"\n",
    "\n",
    "import nltk\n",
    "from nltk.corpus import stopwords\n",
    "from wordcloud import WordCloud\n",
    "\n",
    "stopwords = set(stopwords.words('english'))\n",
    "stopwords.update([\"like\", \"phone\", \"product\",\"good\",\"great\",\"camera\", \"iphone\", \"nice\",\"battery\", \"best\", \"awesome\",\"perfomance\",\"buy\",\"better\",\"also\"]) \n",
    "## good and great removed because they were included in negative sentiment\n",
    "pos = \" \".join(review for review in negative.review)\n",
    "wordcloud = WordCloud(stopwords=stopwords).generate(pos)\n",
    "plt.imshow(wordcloud, interpolation='bilinear')\n",
    "plt.axis(\"off\")\n",
    "plt.show()"
   ]
  },
  {
   "cell_type": "code",
   "execution_count": null,
   "id": "861e5245",
   "metadata": {},
   "outputs": [],
   "source": [
    "df['sentiment'] = df['sentiment'].replace({-1 : 'negative'})\n",
    "df['sentiment'] = df['sentiment'].replace({1 : 'positive'})"
   ]
  },
  {
   "cell_type": "code",
   "execution_count": null,
   "id": "0c784132",
   "metadata": {},
   "outputs": [],
   "source": [
    "%matplotlib inline\n",
    "%config InlineBackend.figure_format=\"retina\"\n",
    "\n",
    "count=df['sentiment'].value_counts()\n",
    "\n",
    "ax=count.plot(kind=\"bar\",figsize=(10,8),color=\"blue\",width=0.50)\n",
    "plt.title('PRODUCT SENTIMENT DISTRIBUTION',fontsize=20)\n",
    "plt.xlabel('PRODUCT SENTIMENT',fontsize=20)\n",
    "plt.xticks(fontsize=20,rotation=0)\n",
    "plt.grid(True)\n",
    "for p  in ax.patches:\n",
    "    ax.annotate(str(p.get_height()), (p.get_x() *1.005, p.get_height() * 1.005))\n",
    "plt.show()"
   ]
  },
  {
   "cell_type": "markdown",
   "id": "5c19cf77",
   "metadata": {},
   "source": [
    "**VADER SENTIMENT SCORING**"
   ]
  },
  {
   "cell_type": "code",
   "execution_count": null,
   "id": "284522d6",
   "metadata": {},
   "outputs": [],
   "source": [
    "from nltk.sentiment import SentimentIntensityAnalyzer\n",
    "from tqdm.notebook import tqdm\n",
    "\n",
    "sia = SentimentIntensityAnalyzer()"
   ]
  },
  {
   "cell_type": "code",
   "execution_count": null,
   "id": "4bcb65bf",
   "metadata": {},
   "outputs": [],
   "source": [
    "# Run the polarity score on the entire dataset\n",
    "res = {}\n",
    "for i, row in tqdm(df.iterrows(), total=len(df)):\n",
    "    text = row['review']\n",
    "    myid = row['serial']\n",
    "    res[myid] = sia.polarity_scores(text)"
   ]
  },
  {
   "cell_type": "code",
   "execution_count": null,
   "id": "1fe31a79",
   "metadata": {},
   "outputs": [],
   "source": [
    "vaders = pd.DataFrame(res).T\n",
    "vaders = vaders.reset_index().rename(columns={'index': 'serial'})\n",
    "vaders = vaders.merge(df, how='left')"
   ]
  },
  {
   "cell_type": "code",
   "execution_count": null,
   "id": "5e7221f7",
   "metadata": {},
   "outputs": [],
   "source": [
    "vaders.head()"
   ]
  },
  {
   "cell_type": "code",
   "execution_count": null,
   "id": "ba6b1f50",
   "metadata": {},
   "outputs": [],
   "source": [
    "%matplotlib inline\n",
    "%config InlineBackend.figure_format=\"retina\"\n",
    "\n",
    "color=sb.color_palette(\"bright\", 5)\n",
    "ax = sb.barplot(data=vaders, x='stars', y='compound',palette=color)\n",
    "ax.set_title('COMPOUND SCORE BY FLIPKART PRODUCT REVIEW')\n",
    "plt.show()"
   ]
  },
  {
   "cell_type": "code",
   "execution_count": null,
   "id": "bb6503e7",
   "metadata": {},
   "outputs": [],
   "source": [
    "%matplotlib inline\n",
    "%config InlineBackend.figure_format=\"retina\"\n",
    "\n",
    "color=sb.color_palette(\"Spectral\", 5)\n",
    "fig, axs = plt.subplots(1, 3, figsize=(12, 3))\n",
    "sb.barplot(data=vaders, x='stars', y='pos', ax=axs[0],palette=color)\n",
    "sb.barplot(data=vaders, x='stars', y='neu', ax=axs[1],palette=color)\n",
    "sb.barplot(data=vaders, x='stars', y='neg', ax=axs[2],palette=color)\n",
    "axs[0].set_title('Positive')\n",
    "axs[1].set_title('Neutral')\n",
    "axs[2].set_title('Negative')\n",
    "plt.tight_layout()\n",
    "plt.show()"
   ]
  },
  {
   "cell_type": "markdown",
   "id": "a999ffa3",
   "metadata": {},
   "source": [
    "**ROBERTA PRE-TRAINED MODEL**"
   ]
  },
  {
   "cell_type": "code",
   "execution_count": null,
   "id": "27221f4b",
   "metadata": {},
   "outputs": [],
   "source": [
    "from transformers import AutoTokenizer, AutoModelForSequenceClassification\n",
    "from scipy.special import softmax\n"
   ]
  },
  {
   "cell_type": "code",
   "execution_count": null,
   "id": "6a06ab29",
   "metadata": {},
   "outputs": [],
   "source": [
    "MODEL = f\"cardiffnlp/twitter-roberta-base-sentiment\"\n",
    "tokenizer = AutoTokenizer.from_pretrained(MODEL)\n",
    "model = AutoModelForSequenceClassification.from_pretrained(MODEL)"
   ]
  },
  {
   "cell_type": "code",
   "execution_count": null,
   "id": "7767081f",
   "metadata": {},
   "outputs": [],
   "source": [
    "def polarity_scores_roberta(example):\n",
    "    encoded_text = tokenizer(example, return_tensors='pt')\n",
    "    output = model(**encoded_text)\n",
    "    scores = output[0][0].detach().numpy()\n",
    "    scores = softmax(scores)\n",
    "    scores_dict = {\n",
    "        'roberta_neg' : scores[0],\n",
    "        'roberta_neu' : scores[1],\n",
    "        'roberta_pos' : scores[2]\n",
    "    }\n",
    "    return scores_dict"
   ]
  },
  {
   "cell_type": "code",
   "execution_count": null,
   "id": "93c4949b",
   "metadata": {},
   "outputs": [],
   "source": [
    "res = {}\n",
    "for i, row in tqdm(df.iterrows(), total=len(df)):\n",
    "    try:\n",
    "        text = row['review']\n",
    "        myid = row['serial']\n",
    "        vader_result = sia.polarity_scores(text)\n",
    "        vader_result_rename = {}\n",
    "        for key, value in vader_result.items():\n",
    "            vader_result_rename[f\"vader_{key}\"] = value\n",
    "        roberta_result = polarity_scores_roberta(text)\n",
    "        both = {**vader_result_rename, **roberta_result}\n",
    "        res[myid] = both\n",
    "    except RuntimeError:\n",
    "        print(f'Broke for id {myid}')"
   ]
  },
  {
   "cell_type": "code",
   "execution_count": null,
   "id": "1d4135bf",
   "metadata": {},
   "outputs": [],
   "source": [
    "results_df = pd.DataFrame(res).T\n",
    "results_df = results_df.reset_index().rename(columns={'index': 'serial'})\n",
    "results_df = results_df.merge(df, how='left')"
   ]
  },
  {
   "cell_type": "code",
   "execution_count": null,
   "id": "e2f4041c",
   "metadata": {},
   "outputs": [],
   "source": [
    "sb.pairplot(data=results_df,\n",
    "             vars=['vader_neg', 'vader_neu', 'vader_pos',\n",
    "                  'roberta_neg', 'roberta_neu', 'roberta_pos'],\n",
    "            hue='stars',\n",
    "            palette='tab10')\n",
    "plt.show()"
   ]
  },
  {
   "cell_type": "markdown",
   "id": "bb492008",
   "metadata": {},
   "source": [
    "**TRANSFORMERS  PIPELINE**"
   ]
  },
  {
   "cell_type": "code",
   "execution_count": null,
   "id": "58db7365",
   "metadata": {},
   "outputs": [],
   "source": [
    "from transformers import pipeline\n",
    "\n",
    "sent_pipeline = pipeline(\"sentiment-analysis\")"
   ]
  },
  {
   "cell_type": "code",
   "execution_count": null,
   "id": "959bde8f",
   "metadata": {},
   "outputs": [],
   "source": [
    "for review in df['review'][:5]:\n",
    "    print(review)\n",
    "    print(sent_pipeline(review))\n",
    "    print()"
   ]
  },
  {
   "cell_type": "markdown",
   "id": "b8711e9e",
   "metadata": {},
   "source": [
    "**FINAL REVIEW  SATTISFACTION METER**"
   ]
  },
  {
   "cell_type": "code",
   "execution_count": null,
   "id": "95335ac6",
   "metadata": {},
   "outputs": [],
   "source": [
    "pos_count=positive.size\n",
    "neg_count=negative.size\n",
    "pos_perc_values=(pos_count/df.size)*100\n",
    "neg_perc_values=(neg_count/df.size)*100"
   ]
  },
  {
   "cell_type": "markdown",
   "id": "6128b74c",
   "metadata": {},
   "source": [
    "**BASE VISUALISATION**"
   ]
  },
  {
   "cell_type": "code",
   "execution_count": null,
   "id": "35916a5a",
   "metadata": {},
   "outputs": [],
   "source": [
    "%%capture output11\n",
    "%matplotlib inline\n",
    "%config InlineBackend.figure_format=\"retina\"\n",
    "\n",
    "import requests\n",
    "from bs4 import BeautifulSoup\n",
    "from PIL import Image\n",
    "from io import BytesIO\n",
    "import matplotlib.pyplot as plt\n",
    "import numpy as np\n",
    "import pandas as pd\n",
    "import mplcursors\n",
    "from ipywidgets import interactive,interactive_output,HTML\n",
    "\n",
    "# Load the CSV data\n",
    "csv_path = 'flipkart_base_07-07-2024-13-19.csv'\n",
    "flipkart_data = pd.read_csv(csv_path)\n",
    "\n",
    "# Function to fetch the image\n",
    "def fetch_image(url, retries=3, delay=5):\n",
    "    for i in range(retries):\n",
    "        response = requests.get(url)\n",
    "        if response.status_code == 200:\n",
    "            soup = BeautifulSoup(response.content, 'html.parser')\n",
    "            src = \"https://rukminim2.flixcart.com/image/312/312/xif0q/mobile/k/l/l/-original-imagtc5fz9spysyk.jpeg?q=70\"\n",
    "            image_tag = soup.find('img', {'src': src})\n",
    "            if image_tag:\n",
    "                image_url = image_tag.get('src')\n",
    "                image_response = requests.get(image_url)\n",
    "                if image_response.status_code == 200:\n",
    "                    return Image.open(BytesIO(image_response.content))\n",
    "                else:\n",
    "                    print(f\"Failed to fetch image. Status code: {image_response.status_code}\")\n",
    "            else:\n",
    "                print(\"Image with specified src not found\")\n",
    "                return None\n",
    "        elif response.status_code == 429:\n",
    "            print(f\"Rate limited. Retrying in {delay} seconds...\")\n",
    "            time.sleep(delay)\n",
    "            delay *= 2\n",
    "        else:\n",
    "            response.raise_for_status()\n",
    "    raise Exception(f\"Failed to fetch image after {retries} retries.\")\n",
    "\n",
    "# URL of the webpage to extract the image from\n",
    "url = \"https://www.flipkart.com/apple-iphone-15-blue-128-gb/product-reviews/itmbf14ef54f645d?pid=MOBGTAGPAQNVFZZY&lid=LSTMOBGTAGPAQNVFZZYO7HQ2L&marketplace=FLIPKART&page=1\"\n",
    "mobile_image = fetch_image(url)\n",
    "mobile_image=mobile_image.resize((200,300))\n",
    "\n",
    "# Product information\n",
    "product_name = \"Apple Iphone 15 Blue (128 GB)\"\n",
    "\n",
    "# Extract the relevant data\n",
    "ratings = flipkart_data.iloc[0, :5]\n",
    "total_reviews = flipkart_data['Total Number of Ratings and Reviews'][0]\n",
    "average_rating = flipkart_data['Total Rating'][0]\n",
    "\n",
    "# Convert ratings to numeric\n",
    "ratings = ratings.astype(int)\n",
    "\n",
    "# Split total ratings and reviews\n",
    "total_ratings, total_reviews_only = total_reviews.split(' ')[0], total_reviews.split(' ')[2]\n",
    "\n",
    "# Colors for the bars\n",
    "colors = ['#f44336', '#ff9800', '#cddc39', '#8bc34a', '#4caf50']\n",
    "\n",
    "# Create figure and axis\n",
    "fig, ax = plt.subplots(figsize=(15, 8))\n",
    "\n",
    "# Display the mobile image\n",
    "ax_img = fig.add_axes([0.1, 0.1, 0.35, 0.8], anchor='W')\n",
    "ax_img.axis('off')\n",
    "ax_img.imshow(mobile_image)\n",
    "\n",
    "\n",
    "# Create an inset plot for the ratings\n",
    "ax_inset = fig.add_axes([0.5, 0.1, 0.45, 0.8])  # [left, bottom, width, height]\n",
    "ax_inset.barh(np.arange(len(ratings)), ratings.values, color=colors, edgecolor='black')\n",
    "\n",
    "# Add star labels and counts to the left and right of the bars\n",
    "for i, (star, count) in enumerate(zip(ratings.index, ratings.values)):\n",
    "    ax_inset.text(-500, i, f'{star} ★', va='center', ha='right', fontsize=12)\n",
    "    ax_inset.text(count + 500, i, f'{count:,}', va='center', ha='left', fontsize=12)\n",
    "\n",
    "# Remove axes spines and labels\n",
    "ax_inset.spines['top'].set_visible(False)\n",
    "ax_inset.spines['right'].set_visible(False)\n",
    "ax_inset.spines['left'].set_visible(False)\n",
    "ax_inset.spines['bottom'].set_visible(False)\n",
    "ax_inset.yaxis.set_visible(False)\n",
    "ax_inset.xaxis.set_visible(False)\n",
    "\n",
    "# Add average rating and total ratings/reviews\n",
    "fig.text(0.6, 0.9, f'{average_rating} ★', fontsize=24, fontweight='bold')\n",
    "fig.text(0.6, 0.87, f'{total_ratings} Ratings & {total_reviews_only} Reviews', fontsize=14)\n",
    "\n",
    "# Add product name\n",
    "fig.text(0.5, 0.95, product_name, fontsize=18, fontweight='bold')\n",
    "\n",
    "# Add clickable URL annotation\n",
    "#url_annotation = fig.text(0.1, 1.02, f'URL: {url}', fontsize=12, color='blue', style='italic')\n",
    "\n",
    "#def on_url_click(event):\n",
    "#    import webbrowser\n",
    "#    if event.xdata is not None and event.ydata is not None:\n",
    "#        webbrowser.open_new(url)\n",
    "\n",
    "#fig.canvas.mpl_connect('button_press_event', on_url_click)\n",
    "# Create clickable URL widget\n",
    "url_widget = HTML(\n",
    "    value=f'<a href=\"{url}\" target=\"_blank\">Click here to open URL</a>',\n",
    "    layout={'width': 'auto'}\n",
    ")\n",
    "fig.text(0.1, 1.02, url_widget, fontsize=12, color='blue', style='italic')\n",
    "\n",
    "#display(url_widget)\n",
    "\n",
    "ax.axis('off')\n",
    "plt.ion()\n",
    "plt.show()\n"
   ]
  },
  {
   "cell_type": "code",
   "execution_count": null,
   "id": "1cacb35b",
   "metadata": {},
   "outputs": [],
   "source": [
    "%%capture output12\n",
    "%matplotlib inline\n",
    "%config InlineBackend.figure_format=\"retina\"\n",
    "\n",
    "\n",
    "import matplotlib.pyplot as plt\n",
    "import numpy as np\n",
    "from matplotlib.animation import FuncAnimation\n",
    "\n",
    "plt.rcParams[\"figure.figsize\"] = [7.50, 3.50]\n",
    "plt.rcParams[\"figure.autolayout\"] = True\n",
    "plt.rcParams['animation.ffmpeg_path'] = 'ffmpeg'\n",
    "\n",
    "# List of color codes\n",
    "colors = [\n",
    "    '#008000',  # Green\n",
    "    '#90EE90',  # Light Green\n",
    "    '#FFFF00',  # Yellow\n",
    "    '#FFA500',  # Orange\n",
    "    '#FF0000'   # Red\n",
    "]\n",
    "\n",
    "# Values and their intervals\n",
    "values = [100, 80, 60, 40, 20, 0]  \n",
    "pos_perc = pos_perc_values \n",
    "num_bars = len(colors)\n",
    "\n",
    "# Calculate the angle for each bar\n",
    "angles = np.linspace(0, np.pi, num_bars, endpoint=False)\n",
    "intv=[0,0.62831853,1.25663706,1.88495559,2.51327412,3.14159265,3.76991118]\n",
    "intv_mid=[0.314159265, 0.942477795, 1.57079633, 2.19911486, 2.82743339, 3.45575191]\n",
    "\n",
    "\n",
    "# Initial pointer position\n",
    "initial_pos = 0  # Start at 0%\n",
    "target_pos = pos_perc  # End at target percentage\n",
    "angle_for_target_pos = np.interp(target_pos, [0, 100], [np.pi, 0])  # Target angle\n",
    "\n",
    "# Create figure and polar subplot\n",
    "fig = plt.figure(figsize=(10, 10))\n",
    "ax = fig.add_subplot(projection='polar')\n",
    "\n",
    "# Create bars\n",
    "bars = ax.bar(x=angles, width=np.pi/num_bars, bottom=2, height=0.5, color=colors, edgecolor='white', align='edge')\n",
    "\n",
    "# Annotate values\n",
    "for loc, val in zip(intv, values):\n",
    "    plt.annotate(val, xy=(loc, 2.5), ha='right' if val <= 50 else 'left')\n",
    "\n",
    "# Define emojis\n",
    "emojis = [\"😃\", \"😊\", \"😐\", \"😕\", \"😡\"]\n",
    "\n",
    "# Annotate emojis on bars\n",
    "for loc, emoji in zip(intv_mid, emojis):\n",
    "    ax.text(loc, 2.25, emoji, fontsize=40, ha='center', va='center', color='black')\n",
    "\n",
    "# Create annotation for pointer\n",
    "pointer_annotation = ax.annotate(f\"{initial_pos:.2f}%\", xytext=(0, 0), xy=(0, 2.0),\n",
    "                                 arrowprops=dict(arrowstyle=\"wedge,tail_width=0.45\", color=\"black\", shrinkA=0),\n",
    "                                 bbox=dict(boxstyle=\"circle\", facecolor=\"black\", linewidth=2.0),\n",
    "                                 fontsize=25, color=\"white\", ha=\"center\")\n",
    "\n",
    "# Animation function\n",
    "def update(frame):\n",
    "    current_pos = np.interp(frame, [0, 100], [0, pos_perc])\n",
    "    current_angle = np.interp(current_pos, [0, 100], [np.pi, 0])\n",
    "    pointer_annotation.xy = (current_angle, 2.0)\n",
    "    pointer_annotation.set_text(f\"{current_pos:.2f}%\")\n",
    "    return pointer_annotation,\n",
    "\n",
    "ax.set_axis_off()\n",
    "# Display the plot\n",
    "plt.title(\"CUSTOMER SENTIMENT\", loc=\"center\", pad=20, fontsize=35, fontweight=\"bold\")\n",
    "#plt.show()\n",
    "# Create the animation\n",
    "anim = FuncAnimation(fig, update,frames=np.linspace(0, 100, num=201), interval=50, blit=True)\n",
    "plt.close()\n"
   ]
  },
  {
   "cell_type": "code",
   "execution_count": null,
   "id": "1405d2f6",
   "metadata": {},
   "outputs": [],
   "source": [
    "%%capture output13\n",
    "from IPython.display import HTML\n",
    "\n",
    "HTML(anim.to_jshtml())"
   ]
  },
  {
   "cell_type": "code",
   "execution_count": null,
   "id": "7509cb1a",
   "metadata": {},
   "outputs": [],
   "source": [
    "# Import display function from IPython.display\n",
    "from IPython.display import display,HTML\n",
    "\n",
    "# Display the captured outputs\n",
    "display(output11.show())\n",
    "display(output13.show())\n"
   ]
  }
 ],
 "metadata": {
  "kernelspec": {
   "display_name": "Python 3 (ipykernel)",
   "language": "python",
   "name": "python3"
  },
  "language_info": {
   "codemirror_mode": {
    "name": "ipython",
    "version": 3
   },
   "file_extension": ".py",
   "mimetype": "text/x-python",
   "name": "python",
   "nbconvert_exporter": "python",
   "pygments_lexer": "ipython3",
   "version": "3.7.0"
  }
 },
 "nbformat": 4,
 "nbformat_minor": 5
}
