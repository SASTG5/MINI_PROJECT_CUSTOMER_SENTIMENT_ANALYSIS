{
 "cells": [
  {
   "cell_type": "markdown",
   "id": "6jrDQy76YnNS",
   "metadata": {
    "id": "6jrDQy76YnNS"
   },
   "source": [
    "# **WEBSCRAPING FROM AMAZON FOR REVIEWS**"
   ]
  },
  {
   "cell_type": "code",
   "execution_count": null,
   "id": "P0HTHhpJeiOP",
   "metadata": {
    "colab": {
     "base_uri": "https://localhost:8080/",
     "height": 39
    },
    "executionInfo": {
     "elapsed": 3225,
     "status": "ok",
     "timestamp": 1719739794481,
     "user": {
      "displayName": "Sashang Umanath S",
      "userId": "03101180547587436635"
     },
     "user_tz": -330
    },
    "id": "P0HTHhpJeiOP",
    "outputId": "21282f66-0ec9-48d6-ab47-429d9b2f906f"
   },
   "outputs": [],
   "source": [
    "#from google.colab import files\n",
    "#uploaded = files.upload()"
   ]
  },
  {
   "cell_type": "markdown",
   "id": "GK4Vt88RevKr",
   "metadata": {
    "id": "GK4Vt88RevKr"
   },
   "source": [
    "**SCRAPPER**"
   ]
  },
  {
   "cell_type": "code",
   "execution_count": null,
   "id": "c431e173-fe17-4eab-bbd3-09e1b6fbd3d5",
   "metadata": {
    "executionInfo": {
     "elapsed": 2670,
     "status": "ok",
     "timestamp": 1719751821643,
     "user": {
      "displayName": "Sashang Umanath S",
      "userId": "03101180547587436635"
     },
     "user_tz": -330
    },
    "id": "c431e173-fe17-4eab-bbd3-09e1b6fbd3d5"
   },
   "outputs": [],
   "source": [
    "import pandas as pd\n",
    "import requests\n",
    "from bs4 import BeautifulSoup as bs\n",
    "from datetime import datetime"
   ]
  },
  {
   "cell_type": "code",
   "execution_count": null,
   "id": "2724dec5-841c-4b1a-92c4-5120bbdfb7e1",
   "metadata": {
    "executionInfo": {
     "elapsed": 538,
     "status": "ok",
     "timestamp": 1719751827366,
     "user": {
      "displayName": "Sashang Umanath S",
      "userId": "03101180547587436635"
     },
     "user_tz": -330
    },
    "id": "2724dec5-841c-4b1a-92c4-5120bbdfb7e1"
   },
   "outputs": [],
   "source": [
    "# Define the URLs to scrape reviews from and set up headers for the requests\n",
    "pages = [\n",
    "   \"https://www.flipkart.com/apple-iphone-15-blue-128-gb/product-reviews/itmbf14ef54f645d?pid=MOBGTAGPAQNVFZZY&lid=LSTMOBGTAGPAQNVFZZYO7HQ2L&marketplace=FLIPKART&page=1\"\n",
    "]\n",
    "HEADERS = {\n",
    "    \"User-Agent\": \"Mozilla/5.0 (Windows NT 10.0; Win64; x64) AppleWebKit/537.36 (KHTML, like Gecko) Chrome/123.0.0.0 Safari/537.36\"\n",
    "}\n",
    "\n",
    "\n"
   ]
  },
  {
   "cell_type": "markdown",
   "id": "A8L9xzliZpzP",
   "metadata": {
    "id": "A8L9xzliZpzP"
   },
   "source": [
    "**HANDLER FUNCTION TO GET STAR RATING**"
   ]
  },
  {
   "cell_type": "code",
   "execution_count": null,
   "id": "59965162-c30c-4b89-994b-23813e5d9066",
   "metadata": {
    "id": "59965162-c30c-4b89-994b-23813e5d9066"
   },
   "outputs": [],
   "source": [
    "# Define helper function to extract the star rating from a review\n",
    "def stars(obj: bs) -> str:\n",
    "    try:\n",
    "        star = obj.find(\"div\", attrs={\"class\":\"XQDdHH Ga3i8K\"}).get_text().strip()\n",
    "        return star.split('\\\\n')[0][0]\n",
    "    except Exception as e:\n",
    "        print(e)"
   ]
  },
  {
   "cell_type": "markdown",
   "id": "RzmOQevGZz8d",
   "metadata": {
    "id": "RzmOQevGZz8d"
   },
   "source": [
    "**HANDLER FUNCTION TO GET REVIEW CONTENT**"
   ]
  },
  {
   "cell_type": "code",
   "execution_count": null,
   "id": "9904bb34-95fe-43ab-a918-76079a2bef3f",
   "metadata": {
    "id": "9904bb34-95fe-43ab-a918-76079a2bef3f"
   },
   "outputs": [],
   "source": [
    "# Define helper function to extract the review content\n",
    "def content(obj):\n",
    "    try:\n",
    "        content = obj.find(\"div\",{\"class\":\"ZmyHeo\"}).get_text().rstrip(\"READ MORE\")\n",
    "        return content\n",
    "    except Exception as e:\n",
    "        print(e)\n"
   ]
  },
  {
   "cell_type": "markdown",
   "id": "M9rYKjx2aCTk",
   "metadata": {
    "id": "M9rYKjx2aCTk"
   },
   "source": [
    "**HANDLER FUNCTION TO GET VERIFIED**"
   ]
  },
  {
   "cell_type": "code",
   "execution_count": null,
   "id": "b3ed99dd-f93c-4215-8c35-1c43c4455c6f",
   "metadata": {
    "id": "b3ed99dd-f93c-4215-8c35-1c43c4455c6f"
   },
   "outputs": [],
   "source": [
    "# Define helper function to extract the verification status of a review\n",
    "def verified(obj: bs) -> dict:\n",
    "    try:\n",
    "        verified = obj.find(\"p\",{\"class\":\"MztJPv\"}).get_text().strip().split(',')[0]\n",
    "        return verified\n",
    "    except Exception as e:\n",
    "        print(e)"
   ]
  },
  {
   "cell_type": "markdown",
   "id": "fb5972f7-2123-4903-90f0-47079280707a",
   "metadata": {},
   "source": [
    "**HANDLER FUNCTION TO GET PLACE**"
   ]
  },
  {
   "cell_type": "code",
   "execution_count": null,
   "id": "0040affb-e513-42de-ac1b-f14cc267dde9",
   "metadata": {},
   "outputs": [],
   "source": [
    "# Define helper function to extract the place of the reviewer\n",
    "def place(obj: bs) -> dict:\n",
    "    try:\n",
    "        place = obj.find(\"p\",{\"class\":\"MztJPv\"}).get_text().strip().split(',')[1]\n",
    "        return place\n",
    "    except Exception as e:\n",
    "        print(e)"
   ]
  },
  {
   "cell_type": "markdown",
   "id": "X8f7jg4HL022",
   "metadata": {
    "id": "X8f7jg4HL022"
   },
   "source": [
    "**HANDLER FUNCTION TO GET DATE**"
   ]
  },
  {
   "cell_type": "code",
   "execution_count": null,
   "id": "3lJdDE5CLz8z",
   "metadata": {
    "id": "3lJdDE5CLz8z"
   },
   "outputs": [],
   "source": [
    "# Define helper function to extract the date of the review\n",
    "def date(soup_obj: bs) -> str:\n",
    "    try:\n",
    "        review_date = soup_obj.find(\"p\",{\"class\": \"_2NsDsF\"}).get_text().strip()\n",
    "        return review_date\n",
    "    except Exception as e:\n",
    "        return 'not_found'\n",
    "        print(e)"
   ]
  },
  {
   "cell_type": "markdown",
   "id": "H1WNwrUTMAtK",
   "metadata": {
    "id": "H1WNwrUTMAtK"
   },
   "source": [
    "**HANDLER FUNCTION TO GET TITLE**"
   ]
  },
  {
   "cell_type": "code",
   "execution_count": null,
   "id": "3mjGE1wJMAAp",
   "metadata": {
    "id": "3mjGE1wJMAAp"
   },
   "outputs": [],
   "source": [
    "# Define helper function to extract the title of the review\n",
    "def title(soup_obj: bs) -> str:\n",
    "    try:\n",
    "        review_title = soup_obj.find('p',{\"class\": \"z9E0IG\"}).get_text().strip()\n",
    "        return review_title\n",
    "    except Exception as e:\n",
    "        return 'not_found'\n",
    "        print(e)"
   ]
  },
  {
   "cell_type": "markdown",
   "id": "qyv7a1HxMMne",
   "metadata": {
    "id": "qyv7a1HxMMne"
   },
   "source": [
    "**HANDLER FUNCTION TO GET NAME**"
   ]
  },
  {
   "cell_type": "code",
   "execution_count": null,
   "id": "9dqOSoo8MK-C",
   "metadata": {
    "id": "9dqOSoo8MK-C"
   },
   "outputs": [],
   "source": [
    "# Define helper function to extract the name of the reviewer\n",
    "def name(soup_obj: bs) -> str:\n",
    "    try:\n",
    "        user_name = soup_obj.find('p', {\"class\": \"_2NsDsF AwS1CA\"}).get_text()\n",
    "        return user_name\n",
    "    except Exception as e:\n",
    "        return 'not_found'\n",
    "        print(e)"
   ]
  },
  {
   "cell_type": "markdown",
   "id": "fabe1bcd-0217-4868-8684-d4d075204fef",
   "metadata": {},
   "source": [
    "**HANDLER FUNCTION TO GET NO OF HELPFUL**"
   ]
  },
  {
   "cell_type": "code",
   "execution_count": null,
   "id": "23d6223d-06af-44a1-9caa-b0f8a4ff98ae",
   "metadata": {},
   "outputs": [],
   "source": [
    "# Define helper function to extract the number of helpful votes\n",
    "def no_of_helpful(obj):\n",
    "    try:\n",
    "        no_of_helpful = obj.find(\"div\",{\"class\":\"tl9VpF\"}).get_text().strip()\n",
    "        return no_of_helpful\n",
    "    except Exception as e:\n",
    "        print(e)"
   ]
  },
  {
   "cell_type": "markdown",
   "id": "cf115532-3029-4090-b237-a49b3887b2e9",
   "metadata": {},
   "source": [
    "**HANDLER FUNCTION TO GET NO OF NOT HELPFUL**"
   ]
  },
  {
   "cell_type": "code",
   "execution_count": null,
   "id": "65ed503f-4dc5-4b80-81ec-96450c41e43e",
   "metadata": {},
   "outputs": [],
   "source": [
    "# Define helper function to extract the number of not helpful votes\n",
    "def no_of_not_helpful(soup_obj: bs) -> str:\n",
    "    try:\n",
    "        no_of_not_helpful = soup_obj.find(\"div\", {\"class\": \"_6kK6mk aQymJL\"}).get_text()\n",
    "        return no_of_not_helpful\n",
    "    except Exception as e:\n",
    "        return 'not_found'\n",
    "        print(e)"
   ]
  },
  {
   "cell_type": "markdown",
   "id": "b9e3780c-af55-49cc-b88f-b000bee2e089",
   "metadata": {},
   "source": [
    "**HANDLER FUNCTION FOR GETTING RATINGS**"
   ]
  },
  {
   "cell_type": "code",
   "execution_count": null,
   "id": "6c055a8f-366a-4720-ab7d-750425e4031c",
   "metadata": {},
   "outputs": [],
   "source": [
    "def ratings(soup_obj: bs) -> str:\n",
    "    try:\n",
    "        ratings = soup_obj.find(\"div\", {\"class\": \"_1G0WLw mpIySA\"}).span.get_text()\n",
    "        return ratings\n",
    "    except Exception as e:\n",
    "        return 'not_found'\n",
    "        print(e)"
   ]
  },
  {
   "cell_type": "markdown",
   "id": "WWmRrOAHaN1D",
   "metadata": {
    "id": "WWmRrOAHaN1D"
   },
   "source": [
    "**CALL FUNCTION**"
   ]
  },
  {
   "cell_type": "code",
   "execution_count": null,
   "id": "92a9af16-79b6-4917-9455-1da0df69a00c",
   "metadata": {
    "id": "92a9af16-79b6-4917-9455-1da0df69a00c"
   },
   "outputs": [],
   "source": [
    "# Define function to extract all relevant data from a review\n",
    "def get_data(obj: bs)->dict:\n",
    "    return {\n",
    "        'name':  name(obj),\n",
    "        'title': title(obj),\n",
    "        #'date': date(obj),\n",
    "        'stars': stars(obj),\n",
    "        'review': content(obj),\n",
    "        #'no_of_helpful' :no_of_helpful(obj),\n",
    "        #'no_of_not_helpful' :no_of_not_helpful(obj),\n",
    "        'verified': verified(obj),\n",
    "        'place': place(obj)\n",
    "    }"
   ]
  },
  {
   "cell_type": "code",
   "execution_count": null,
   "id": "d3c1dd5e-12ee-480f-85aa-cf40146a2357",
   "metadata": {
    "colab": {
     "base_uri": "https://localhost:8080/"
    },
    "executionInfo": {
     "elapsed": 3924,
     "status": "ok",
     "timestamp": 1719738530169,
     "user": {
      "displayName": "Sashang Umanath S",
      "userId": "03101180547587436635"
     },
     "user_tz": -330
    },
    "id": "d3c1dd5e-12ee-480f-85aa-cf40146a2357",
    "outputId": "e6dcb5c3-28b5-4cf3-aa5a-0166c7cc5932"
   },
   "outputs": [],
   "source": [
    "# from os import wait\n",
    "# # Initialize list to hold all reviews and URLs to scrape\n",
    "# all_reviews=[]\n",
    "# URLS=[]\n",
    "\n",
    "# # Generate URLs for all pages to scrape\n",
    "# for x in range(1,218):\n",
    "#     URL = f'https://www.flipkart.com/apple-iphone-15-blue-128-gb/product-reviews/itmbf14ef54f645d?pid=MOBGTAGPAQNVFZZY&lid=LSTMOBGTAGPAQNVFZZYO7HQ2L&marketplace=FLIPKART&page={x}'\n",
    "#     URLS.append(URL)\n",
    "\n",
    "\n",
    "# # Scrape reviews from each URL and extract data\n",
    "# for page in URLS:\n",
    "#     resp=requests.get(page)\n",
    "#     soup=bs(resp.text,\"html.parser\")\n",
    "#     reviews=soup.find_all('div', {\"class\": \"col EPCmJX Ma1fCG\"})\n",
    "#     records=[get_data(review) for review in reviews]\n",
    "#     all_reviews.extend(records)\n",
    "    \n",
    "\n",
    "# print(f'Total reviews: {len(all_reviews)}')\n",
    "\n"
   ]
  },
  {
   "cell_type": "code",
   "execution_count": null,
   "id": "b82f9cf4",
   "metadata": {},
   "outputs": [],
   "source": [
    "# from selenium import webdriver\n",
    "# from selenium.webdriver.common.by import By\n",
    "# from bs4 import BeautifulSoup as bs\n",
    "# import time\n",
    "\n",
    "# # Set up Selenium with ChromeDriver\n",
    "# driver = webdriver.Chrome()  # Update path to ChromeDriver\n",
    "\n",
    "# all_reviews = []\n",
    "\n",
    "# # Generate URLs for all pages to scrape\n",
    "# for x in range(1, 231):\n",
    "#     URL = f'https://www.flipkart.com/apple-iphone-15-blue-128-gb/product-reviews/itmbf14ef54f645d?pid=MOBGTAGPAQNVFZZY&lid=LSTMOBGTAGPAQNVFZZYO7HQ2L&marketplace=FLIPKART&page={x}'\n",
    "    \n",
    "#     # Use Selenium to get the page\n",
    "#     driver.get(URL)\n",
    "#     time.sleep(7)  # Wait for the page to fully load\n",
    "\n",
    "#     # Get the page source and parse with BeautifulSoup\n",
    "#     soup = bs(driver.page_source, \"html.parser\")\n",
    "#     reviews = soup.find_all('div', {\"class\": \"col EPCmJX Ma1fCG\"})\n",
    "    \n",
    "#     # Extract data from each review\n",
    "#     for review in reviews:\n",
    "#         try:\n",
    "#             record = get_data(review)\n",
    "#             all_reviews.append(record)\n",
    "#         except Exception as e:\n",
    "#             print(f\"Error processing review: {e}\")\n",
    "\n",
    "# driver.quit()  # Close the browser\n",
    "\n",
    "# print(f'Total reviews: {len(all_reviews)}')"
   ]
  },
  {
   "cell_type": "code",
   "execution_count": null,
   "id": "d5fb2dc3",
   "metadata": {},
   "outputs": [],
   "source": [
    "# from selenium import webdriver\n",
    "# from selenium.webdriver.common.by import By\n",
    "# from selenium.webdriver.support.ui import WebDriverWait\n",
    "# from selenium.webdriver.support import expected_conditions as EC\n",
    "# from selenium.common.exceptions import TimeoutException\n",
    "# from bs4 import BeautifulSoup as bs\n",
    "# import concurrent.futures\n",
    "# import time\n",
    "\n",
    "# # Function to scrape reviews from a single page\n",
    "# def scrape_page(page_num):\n",
    "#     URL = f'https://www.flipkart.com/apple-iphone-15-blue-128-gb/product-reviews/itmbf14ef54f645d?pid=MOBGTAGPAQNVFZZY&lid=LSTMOBGTAGPAQNVFZZYO7HQ2L&marketplace=FLIPKART&page={page_num}'\n",
    "    \n",
    "#     # Set up Selenium with ChromeDriver\n",
    "#     driver = webdriver.Chrome()  # Ensure ChromeDriver is correctly set up in your PATH\n",
    "#     driver.get(URL)\n",
    "    \n",
    "#     try:\n",
    "#         # Wait for the review elements to be present\n",
    "#         WebDriverWait(driver, 10).until(\n",
    "#             EC.presence_of_element_located((By.CSS_SELECTOR, \"div.col.EPCmJX.Ma1fCG\"))\n",
    "#         )\n",
    "#     except TimeoutException:\n",
    "#         print(f\"Timeout waiting for page {page_num} to load\")\n",
    "#         driver.quit()\n",
    "#         return []\n",
    "\n",
    "#     # Get the page source and parse with BeautifulSoup\n",
    "#     soup = bs(driver.page_source, \"html.parser\")\n",
    "#     reviews = soup.find_all('div', {\"class\": \"col EPCmJX Ma1fCG\"})\n",
    "    \n",
    "#     # Extract data from each review\n",
    "#     page_reviews = []\n",
    "#     for review in reviews:\n",
    "#         try:\n",
    "#             record = get_data(review)\n",
    "#             page_reviews.append(record)\n",
    "#         except Exception as e:\n",
    "#             print(f\"Error processing review on page {page_num}: {e}\")\n",
    "\n",
    "#     driver.quit()  # Close the browser\n",
    "#     return page_reviews\n",
    "\n",
    "# # Number of pages to scrape\n",
    "# total_pages = 2\n",
    "\n",
    "# # Use ThreadPoolExecutor to scrape pages in parallel\n",
    "# all_reviews = []\n",
    "# with concurrent.futures.ThreadPoolExecutor(max_workers=10) as executor:\n",
    "#     future_to_page = {executor.submit(scrape_page, page_num): page_num for page_num in range(1, total_pages + 1)}\n",
    "#     for future in concurrent.futures.as_completed(future_to_page):\n",
    "#         page_num = future_to_page[future]\n",
    "#         try:\n",
    "#             page_reviews = future.result()\n",
    "#             all_reviews.extend(page_reviews)\n",
    "#         except Exception as e:\n",
    "#             print(f\"Error scraping page {page_num}: {e}\")\n",
    "\n",
    "# print(f'Total reviews: {len(all_reviews)}')\n"
   ]
  },
  {
   "cell_type": "code",
   "execution_count": 75,
   "id": "1553a6cf",
   "metadata": {},
   "outputs": [],
   "source": [
    "from selenium import webdriver\n",
    "from selenium.webdriver.common.by import By\n",
    "from selenium.webdriver.support.ui import WebDriverWait\n",
    "from selenium.webdriver.support import expected_conditions as EC\n",
    "from selenium.common.exceptions import TimeoutException\n",
    "from bs4 import BeautifulSoup as bs\n",
    "import concurrent.futures\n",
    "import pandas as pd\n",
    "\n",
    "# Function to scrape reviews from a single page\n",
    "def scrape_page(page_num):\n",
    "    URL = f'https://www.flipkart.com/apple-iphone-15-blue-128-gb/product-reviews/itmbf14ef54f645d?pid=MOBGTAGPAQNVFZZY&lid=LSTMOBGTAGPAQNVFZZYO7HQ2L&marketplace=FLIPKART&page={page_num}'\n",
    "    \n",
    "    # Set up Selenium with ChromeDriver\n",
    "    driver = webdriver.Chrome()  # Ensure ChromeDriver is correctly set up in your PATH\n",
    "    driver.get(URL)\n",
    "    \n",
    "    try:\n",
    "        # Wait for the review elements to be present\n",
    "        WebDriverWait(driver, 10).until(\n",
    "            EC.presence_of_element_located((By.CSS_SELECTOR, \"div.col.EPCmJX.Ma1fCG\"))\n",
    "        )\n",
    "    except TimeoutException:\n",
    "        print(f\"Timeout waiting for page {page_num} to load\")\n",
    "        driver.quit()\n",
    "        return []\n",
    "\n",
    "    # Get the page source and parse with BeautifulSoup\n",
    "    soup = bs(driver.page_source, \"html.parser\")\n",
    "    reviews = soup.find_all('div', {\"class\": \"col EPCmJX Ma1fCG\"})\n",
    "    \n",
    "    # Extract data from each review\n",
    "    page_reviews = []\n",
    "    for review in reviews:\n",
    "        try:\n",
    "            record = get_data(review)\n",
    "            page_reviews.append(record)\n",
    "        except Exception as e:\n",
    "            print(f\"Error processing review on page {page_num}: {e}\")\n",
    "\n",
    "    driver.quit()  # Close the browser\n",
    "    return page_reviews\n",
    "\n",
    "# Number of pages to scrape\n",
    "total_pages = 2\n",
    "\n",
    "# Use ThreadPoolExecutor to scrape pages in parallel\n",
    "all_reviews = [None] * total_pages\n",
    "with concurrent.futures.ThreadPoolExecutor(max_workers=10) as executor:\n",
    "    future_to_page = {executor.submit(scrape_page, page_num): page_num for page_num in range(1, total_pages + 1)}\n",
    "    for future in concurrent.futures.as_completed(future_to_page):\n",
    "        page_num = future_to_page[future]\n",
    "        try:\n",
    "            page_reviews = future.result()\n",
    "            all_reviews[page_num - 1] = page_reviews\n",
    "        except Exception as e:\n",
    "            print(f\"Error scraping page {page_num}: {e}\")\n",
    "\n",
    "# Flatten the list of lists\n",
    "all_reviews = [review for page_reviews in all_reviews if page_reviews for review in page_reviews]\n",
    "\n"
   ]
  },
  {
   "cell_type": "code",
   "execution_count": 76,
   "id": "g3UOP-IXrFDk",
   "metadata": {
    "colab": {
     "base_uri": "https://localhost:8080/"
    },
    "executionInfo": {
     "elapsed": 371,
     "status": "ok",
     "timestamp": 1719738533392,
     "user": {
      "displayName": "Sashang Umanath S",
      "userId": "03101180547587436635"
     },
     "user_tz": -330
    },
    "id": "g3UOP-IXrFDk",
    "outputId": "bfc2c020-b1bc-4ff0-83c4-202191b31476"
   },
   "outputs": [
    {
     "name": "stdout",
     "output_type": "stream",
     "text": [
      "20\n"
     ]
    }
   ],
   "source": [
    "print(len(all_reviews))"
   ]
  },
  {
   "cell_type": "markdown",
   "id": "cKayLiN5aYkO",
   "metadata": {
    "id": "cKayLiN5aYkO"
   },
   "source": [
    "**DATA FRAME**"
   ]
  },
  {
   "cell_type": "code",
   "execution_count": 77,
   "id": "64733016-9e1b-4f87-b448-64b8fcde7d00",
   "metadata": {
    "colab": {
     "base_uri": "https://localhost:8080/",
     "height": 658
    },
    "executionInfo": {
     "elapsed": 378,
     "status": "ok",
     "timestamp": 1719738535605,
     "user": {
      "displayName": "Sashang Umanath S",
      "userId": "03101180547587436635"
     },
     "user_tz": -330
    },
    "id": "64733016-9e1b-4f87-b448-64b8fcde7d00",
    "outputId": "39631d33-3b3d-4614-cc3a-170ebcb0504d"
   },
   "outputs": [
    {
     "data": {
      "text/html": [
       "<div>\n",
       "<style scoped>\n",
       "    .dataframe tbody tr th:only-of-type {\n",
       "        vertical-align: middle;\n",
       "    }\n",
       "\n",
       "    .dataframe tbody tr th {\n",
       "        vertical-align: top;\n",
       "    }\n",
       "\n",
       "    .dataframe thead th {\n",
       "        text-align: right;\n",
       "    }\n",
       "</style>\n",
       "<table border=\"1\" class=\"dataframe\">\n",
       "  <thead>\n",
       "    <tr style=\"text-align: right;\">\n",
       "      <th></th>\n",
       "      <th>name</th>\n",
       "      <th>title</th>\n",
       "      <th>stars</th>\n",
       "      <th>review</th>\n",
       "      <th>verified</th>\n",
       "      <th>place</th>\n",
       "    </tr>\n",
       "  </thead>\n",
       "  <tbody>\n",
       "    <tr>\n",
       "      <th>0</th>\n",
       "      <td>Nikhil Kumar</td>\n",
       "      <td>Awesome</td>\n",
       "      <td>5</td>\n",
       "      <td>Switch from OnePlus to iPhone I am stunned wit...</td>\n",
       "      <td>Certified Buyer</td>\n",
       "      <td>Meerut Division</td>\n",
       "    </tr>\n",
       "    <tr>\n",
       "      <th>1</th>\n",
       "      <td>Siddharth Malhotra</td>\n",
       "      <td>Perfect product!</td>\n",
       "      <td>5</td>\n",
       "      <td>Nice product with all features specially its l...</td>\n",
       "      <td>Certified Buyer</td>\n",
       "      <td>Muzaffarpur District</td>\n",
       "    </tr>\n",
       "    <tr>\n",
       "      <th>2</th>\n",
       "      <td>Prithivi Boruah</td>\n",
       "      <td>Just wow!</td>\n",
       "      <td>5</td>\n",
       "      <td>Camera Quality Is Improved Loving It</td>\n",
       "      <td>Certified Buyer</td>\n",
       "      <td>Bokajan</td>\n",
       "    </tr>\n",
       "    <tr>\n",
       "      <th>3</th>\n",
       "      <td>Sheetla Prasad Maurya</td>\n",
       "      <td>Worth the money</td>\n",
       "      <td>4</td>\n",
       "      <td>Best mobile phoneCamera quality is very nice B...</td>\n",
       "      <td>Certified Buyer</td>\n",
       "      <td>Sultanpur</td>\n",
       "    </tr>\n",
       "    <tr>\n",
       "      <th>4</th>\n",
       "      <td>Ajin V</td>\n",
       "      <td>Mind-blowing purchase</td>\n",
       "      <td>5</td>\n",
       "      <td>High quality camera😍</td>\n",
       "      <td>Certified Buyer</td>\n",
       "      <td>Balaghat</td>\n",
       "    </tr>\n",
       "    <tr>\n",
       "      <th>5</th>\n",
       "      <td>Flipkart Customer</td>\n",
       "      <td>Worth every penny</td>\n",
       "      <td>5</td>\n",
       "      <td>Awesome photography experience. Battery backup...</td>\n",
       "      <td>Certified Buyer</td>\n",
       "      <td>Aizawl</td>\n",
       "    </tr>\n",
       "    <tr>\n",
       "      <th>6</th>\n",
       "      <td>Mousam  Guha Roy</td>\n",
       "      <td>Good choice</td>\n",
       "      <td>4</td>\n",
       "      <td>Very nice</td>\n",
       "      <td>Certified Buyer</td>\n",
       "      <td>Matialihat</td>\n",
       "    </tr>\n",
       "    <tr>\n",
       "      <th>7</th>\n",
       "      <td>Talim (sk)</td>\n",
       "      <td>Highly recommended</td>\n",
       "      <td>5</td>\n",
       "      <td>I love this phone. The camera is amazing: its ...</td>\n",
       "      <td>Certified Buyer</td>\n",
       "      <td>Sikar</td>\n",
       "    </tr>\n",
       "    <tr>\n",
       "      <th>8</th>\n",
       "      <td>mohit  yadav</td>\n",
       "      <td>Classy product</td>\n",
       "      <td>5</td>\n",
       "      <td>Nice ❤️</td>\n",
       "      <td>Certified Buyer</td>\n",
       "      <td>Mumbai</td>\n",
       "    </tr>\n",
       "    <tr>\n",
       "      <th>9</th>\n",
       "      <td>Kriti Customer</td>\n",
       "      <td>Worth every penny</td>\n",
       "      <td>5</td>\n",
       "      <td>Just loved the product , colour , design is wo...</td>\n",
       "      <td>Certified Buyer</td>\n",
       "      <td>Sarkaghat</td>\n",
       "    </tr>\n",
       "    <tr>\n",
       "      <th>10</th>\n",
       "      <td>Raj Singh</td>\n",
       "      <td>Simply awesome</td>\n",
       "      <td>5</td>\n",
       "      <td>for me its 10 out of 10✨</td>\n",
       "      <td>Certified Buyer</td>\n",
       "      <td>Kolkata</td>\n",
       "    </tr>\n",
       "    <tr>\n",
       "      <th>11</th>\n",
       "      <td>Rahul Shedge</td>\n",
       "      <td>Brilliant</td>\n",
       "      <td>5</td>\n",
       "      <td>Totally happy!Camera 5Battery 5 Display 5Design 5</td>\n",
       "      <td>Certified Buyer</td>\n",
       "      <td>Satara</td>\n",
       "    </tr>\n",
       "    <tr>\n",
       "      <th>12</th>\n",
       "      <td>AYUSH singh</td>\n",
       "      <td>Great product</td>\n",
       "      <td>5</td>\n",
       "      <td>best camera and battery is also very good In l...</td>\n",
       "      <td>Certified Buyer</td>\n",
       "      <td>Dehradun</td>\n",
       "    </tr>\n",
       "    <tr>\n",
       "      <th>13</th>\n",
       "      <td>Arunji Govindaraju</td>\n",
       "      <td>Excellent</td>\n",
       "      <td>5</td>\n",
       "      <td>Awesome product very happy to hold this. Bette...</td>\n",
       "      <td>Certified Buyer</td>\n",
       "      <td>Chennai</td>\n",
       "    </tr>\n",
       "    <tr>\n",
       "      <th>14</th>\n",
       "      <td>Sajib Das</td>\n",
       "      <td>Brilliant</td>\n",
       "      <td>5</td>\n",
       "      <td>moving from android to apple is a surreal expe...</td>\n",
       "      <td>Certified Buyer</td>\n",
       "      <td>Agartala</td>\n",
       "    </tr>\n",
       "    <tr>\n",
       "      <th>15</th>\n",
       "      <td>Saurabh Gothwad</td>\n",
       "      <td>Awesome</td>\n",
       "      <td>5</td>\n",
       "      <td>Simply premium.</td>\n",
       "      <td>Certified Buyer</td>\n",
       "      <td>Paradip</td>\n",
       "    </tr>\n",
       "    <tr>\n",
       "      <th>16</th>\n",
       "      <td>Karmesh Rathore</td>\n",
       "      <td>Highly recommended</td>\n",
       "      <td>5</td>\n",
       "      <td>The BEST CAMERA PHONE OUT THERE, was in dilemm...</td>\n",
       "      <td>Certified Buyer</td>\n",
       "      <td>Sehore</td>\n",
       "    </tr>\n",
       "    <tr>\n",
       "      <th>17</th>\n",
       "      <td>Ankit  Verma</td>\n",
       "      <td>Really Nice</td>\n",
       "      <td>4</td>\n",
       "      <td>Awesome camra quality superb camra 😊</td>\n",
       "      <td>Certified Buyer</td>\n",
       "      <td>Mohammadabad Ghazipur District</td>\n",
       "    </tr>\n",
       "    <tr>\n",
       "      <th>18</th>\n",
       "      <td>Suman Jain</td>\n",
       "      <td>Best in the market!</td>\n",
       "      <td>5</td>\n",
       "      <td>Simply Awesome 🤩</td>\n",
       "      <td>Certified Buyer</td>\n",
       "      <td>Mumbai</td>\n",
       "    </tr>\n",
       "    <tr>\n",
       "      <th>19</th>\n",
       "      <td>Akshay Meena</td>\n",
       "      <td>Fabulous!</td>\n",
       "      <td>5</td>\n",
       "      <td>So beautiful, so elegant, just a vowww😍❤️</td>\n",
       "      <td>Certified Buyer</td>\n",
       "      <td>Jaipur</td>\n",
       "    </tr>\n",
       "  </tbody>\n",
       "</table>\n",
       "</div>"
      ],
      "text/plain": [
       "                     name                  title stars  \\\n",
       "0            Nikhil Kumar                Awesome     5   \n",
       "1      Siddharth Malhotra       Perfect product!     5   \n",
       "2         Prithivi Boruah              Just wow!     5   \n",
       "3   Sheetla Prasad Maurya        Worth the money     4   \n",
       "4                  Ajin V  Mind-blowing purchase     5   \n",
       "5       Flipkart Customer      Worth every penny     5   \n",
       "6        Mousam  Guha Roy            Good choice     4   \n",
       "7              Talim (sk)     Highly recommended     5   \n",
       "8           mohit  yadav          Classy product     5   \n",
       "9          Kriti Customer      Worth every penny     5   \n",
       "10              Raj Singh         Simply awesome     5   \n",
       "11           Rahul Shedge              Brilliant     5   \n",
       "12            AYUSH singh          Great product     5   \n",
       "13     Arunji Govindaraju              Excellent     5   \n",
       "14              Sajib Das              Brilliant     5   \n",
       "15        Saurabh Gothwad                Awesome     5   \n",
       "16        Karmesh Rathore     Highly recommended     5   \n",
       "17          Ankit  Verma             Really Nice     4   \n",
       "18             Suman Jain    Best in the market!     5   \n",
       "19           Akshay Meena              Fabulous!     5   \n",
       "\n",
       "                                               review         verified  \\\n",
       "0   Switch from OnePlus to iPhone I am stunned wit...  Certified Buyer   \n",
       "1   Nice product with all features specially its l...  Certified Buyer   \n",
       "2                Camera Quality Is Improved Loving It  Certified Buyer   \n",
       "3   Best mobile phoneCamera quality is very nice B...  Certified Buyer   \n",
       "4                                High quality camera😍  Certified Buyer   \n",
       "5   Awesome photography experience. Battery backup...  Certified Buyer   \n",
       "6                                           Very nice  Certified Buyer   \n",
       "7   I love this phone. The camera is amazing: its ...  Certified Buyer   \n",
       "8                                             Nice ❤️  Certified Buyer   \n",
       "9   Just loved the product , colour , design is wo...  Certified Buyer   \n",
       "10                           for me its 10 out of 10✨  Certified Buyer   \n",
       "11  Totally happy!Camera 5Battery 5 Display 5Design 5  Certified Buyer   \n",
       "12  best camera and battery is also very good In l...  Certified Buyer   \n",
       "13  Awesome product very happy to hold this. Bette...  Certified Buyer   \n",
       "14  moving from android to apple is a surreal expe...  Certified Buyer   \n",
       "15                                    Simply premium.  Certified Buyer   \n",
       "16  The BEST CAMERA PHONE OUT THERE, was in dilemm...  Certified Buyer   \n",
       "17               Awesome camra quality superb camra 😊  Certified Buyer   \n",
       "18                                   Simply Awesome 🤩  Certified Buyer   \n",
       "19          So beautiful, so elegant, just a vowww😍❤️  Certified Buyer   \n",
       "\n",
       "                              place  \n",
       "0                   Meerut Division  \n",
       "1              Muzaffarpur District  \n",
       "2                           Bokajan  \n",
       "3                         Sultanpur  \n",
       "4                          Balaghat  \n",
       "5                            Aizawl  \n",
       "6                        Matialihat  \n",
       "7                             Sikar  \n",
       "8                            Mumbai  \n",
       "9                         Sarkaghat  \n",
       "10                          Kolkata  \n",
       "11                           Satara  \n",
       "12                         Dehradun  \n",
       "13                          Chennai  \n",
       "14                         Agartala  \n",
       "15                          Paradip  \n",
       "16                           Sehore  \n",
       "17   Mohammadabad Ghazipur District  \n",
       "18                           Mumbai  \n",
       "19                           Jaipur  "
      ]
     },
     "execution_count": 77,
     "metadata": {},
     "output_type": "execute_result"
    }
   ],
   "source": [
    "# Convert the reviews data to a DataFrame and display it\n",
    "df=pd.DataFrame.from_records(all_reviews)\n",
    "df"
   ]
  },
  {
   "cell_type": "code",
   "execution_count": null,
   "id": "ecfbc19d-ec2c-40b2-8b9d-67d2e9cb0a4a",
   "metadata": {
    "id": "ecfbc19d-ec2c-40b2-8b9d-67d2e9cb0a4a"
   },
   "outputs": [],
   "source": [
    "# Optional: Save the DataFrame to a CSV file with a timestamp\n",
    "#save_name=\"flipkart_\"+datetime.now().strftime(\"%d-%m-%Y-%H-%M\")+\".csv\"\n",
    "#df.to_csv(save_name)"
   ]
  },
  {
   "cell_type": "markdown",
   "id": "e65f68ae-6eae-46c2-9e76-0ad1fc883651",
   "metadata": {},
   "source": [
    "**HANDLER FUNCTION  FOR GETTING NO OF PAGES OF REVIEW FOR PRODUCT**"
   ]
  },
  {
   "cell_type": "code",
   "execution_count": null,
   "id": "0698b53b-6a2f-404d-8d91-42e3d174b245",
   "metadata": {},
   "outputs": [],
   "source": [
    "# Extract and print the total rating of the product\n",
    "total_rating = soup.find(\"div\", {\"class\": \"ipqd2A\"}).get_text()\n",
    "print(total_rating)"
   ]
  },
  {
   "cell_type": "code",
   "execution_count": null,
   "id": "4d030874-781c-42b3-845a-4dbf4ab84b03",
   "metadata": {},
   "outputs": [],
   "source": [
    "# Extract and print the total number of ratings and reviews\n",
    "total_no_of_rating_and_review = soup.find(\"div\", {\"class\": \"row j-aW8Z\"}).get_text().strip('&')\n",
    "print(total_no_of_rating_and_review)"
   ]
  },
  {
   "cell_type": "code",
   "execution_count": null,
   "id": "6db6d5a8-3c8f-4eb6-94fb-a58d7a3aedee",
   "metadata": {},
   "outputs": [],
   "source": [
    "# Extract and print the number of star ratings\n",
    "div_elements = soup.find_all(\"div\", {\"class\": \"BArk-j\"})\n",
    "total_no_of_star_rating = [int(li.get_text(strip=True).replace(',', '')) for li in div_elements]\n",
    "ratings_dict = {\n",
    "    '5 stars': total_no_of_star_rating[0],\n",
    "    '4 stars': total_no_of_star_rating[1],\n",
    "    '3 stars': total_no_of_star_rating[2],\n",
    "    '2 stars': total_no_of_star_rating[3],\n",
    "    '1 star': total_no_of_star_rating[4]\n",
    "}\n",
    "print(ratings_dict)"
   ]
  },
  {
   "cell_type": "code",
   "execution_count": null,
   "id": "9a1b8db2-6c60-4a81-9fcb-dae87aced6b5",
   "metadata": {},
   "outputs": [],
   "source": [
    "data = {\n",
    "    'Total Rating': [total_rating],\n",
    "    'Total Number of Ratings and Reviews': [total_no_of_rating_and_review],\n",
    "    '5 Stars': [ratings_dict['5 stars']],\n",
    "    '4 Stars': [ratings_dict['4 stars']],\n",
    "    '3 Stars': [ratings_dict['3 stars']],\n",
    "    '2 Stars': [ratings_dict['2 stars']],\n",
    "    '1 Star': [ratings_dict['1 star']]\n",
    "}\n",
    "\n",
    "# Create a DataFrame with the rating summary and display it\n",
    "df_base= pd.DataFrame.from_records(data)\n",
    "df_base.to_string(index=False)\n",
    "df_base"
   ]
  },
  {
   "cell_type": "code",
   "execution_count": null,
   "id": "3143d13e-c7e0-4c06-bd7b-effacf3ce419",
   "metadata": {},
   "outputs": [],
   "source": [
    "# Save the rating summary DataFrame to a CSV file with a timestamp\n",
    "#save_name_base=\"flipkart_base_\"+datetime.now().strftime(\"%d-%m-%Y-%H-%M\")+\".csv\"\n",
    "#df_base.to_csv(save_name_base,index=False)"
   ]
  },
  {
   "cell_type": "code",
   "execution_count": null,
   "id": "c59b2167-6e7b-49a9-bdcd-f2a81f27ac7f",
   "metadata": {
    "colab": {
     "base_uri": "https://localhost:8080/"
    },
    "executionInfo": {
     "elapsed": 9,
     "status": "ok",
     "timestamp": 1719731747850,
     "user": {
      "displayName": "Sashang Umanath S",
      "userId": "03101180547587436635"
     },
     "user_tz": -330
    },
    "id": "c59b2167-6e7b-49a9-bdcd-f2a81f27ac7f",
    "outputId": "b3119224-080c-4573-981f-41c4bbeefd5c"
   },
   "outputs": [],
   "source": [
    "#List files in the current directory (for checking saved files)\n",
    "%ls"
   ]
  },
  {
   "cell_type": "code",
   "execution_count": null,
   "id": "7b825016-176a-46a5-96ed-2e4f6c048423",
   "metadata": {},
   "outputs": [],
   "source": []
  }
 ],
 "metadata": {
  "colab": {
   "provenance": [
    {
     "file_id": "1JAsPhHBEO_rjL1pJUfthlsfc0EgvY8UN",
     "timestamp": 1719735305222
    }
   ],
   "toc_visible": true
  },
  "kernelspec": {
   "display_name": "Python 3 (ipykernel)",
   "language": "python",
   "name": "python3"
  },
  "language_info": {
   "codemirror_mode": {
    "name": "ipython",
    "version": 3
   },
   "file_extension": ".py",
   "mimetype": "text/x-python",
   "name": "python",
   "nbconvert_exporter": "python",
   "pygments_lexer": "ipython3",
   "version": "3.7.0"
  }
 },
 "nbformat": 4,
 "nbformat_minor": 5
}
